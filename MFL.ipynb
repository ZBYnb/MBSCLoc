{
 "cells": [
  {
   "cell_type": "code",
   "execution_count": 7,
   "id": "c300c41f",
   "metadata": {
    "scrolled": true
   },
   "outputs": [],
   "source": [
    "import os\n",
    "import joblib\n",
    "import numpy as np\n",
    "\n",
    "def load_models(model_folder):\n",
    "    models = []\n",
    "    \n",
    "    # 列出文件夹中的所有文件\n",
    "    model_files = [f for f in os.listdir(model_folder) if f.endswith('.joblib')]\n",
    "    \n",
    "    # 按照文件名排序（确保加载的顺序与保存的顺序一致）\n",
    "    model_files.sort()\n",
    "    \n",
    "    for model_file in model_files:\n",
    "        model_path = os.path.join(model_folder, model_file)\n",
    "        model = joblib.load(model_path)\n",
    "        models.append(model)\n",
    "        \n",
    "    return models\n"
   ]
  },
  {
   "cell_type": "code",
   "execution_count": 8,
   "id": "4fd4154d",
   "metadata": {},
   "outputs": [],
   "source": [
    "# 定义集成预测函数\n",
    "def ensemble_chain_predict(models, X):\n",
    "    predictions = np.array([model.predict(X) for model in models])\n",
    "    # 转换为整数\n",
    "    predictions = predictions.astype(int)\n",
    "    # 简单投票法\n",
    "    final_predictions = np.apply_along_axis(lambda x: np.bincount(x, minlength=2).argmax(), axis=0, arr=predictions)\n",
    "    return final_predictions"
   ]
  },
  {
   "cell_type": "code",
   "execution_count": 11,
   "id": "6aa5fef5",
   "metadata": {},
   "outputs": [
    {
     "name": "stdout",
     "output_type": "stream",
     "text": [
      "Loaded 9 models.\n"
     ]
    }
   ],
   "source": [
    "xgb_models = load_models(r\"model_saved_max_upsampling_9\")\n",
    "print(f\"Loaded {len(xgb_models)} models.\")"
   ]
  },
  {
   "cell_type": "code",
   "execution_count": 12,
   "id": "3db08447",
   "metadata": {},
   "outputs": [
    {
     "name": "stdout",
     "output_type": "stream",
     "text": [
      "Loaded 13 models.\n"
     ]
    }
   ],
   "source": [
    "xgb_models = load_models(r\"model_saved_min_downsampling_13\")\n",
    "print(f\"Loaded {len(xgb_models)} models.\")"
   ]
  },
  {
   "cell_type": "code",
   "execution_count": null,
   "id": "c3582b11",
   "metadata": {},
   "outputs": [],
   "source": [
    "features = np.load('test_npy/features_test.npy')\n",
    "labels = np.load('test_npy/labels_test.npy')"
   ]
  },
  {
   "cell_type": "code",
   "execution_count": null,
   "id": "546e85e9",
   "metadata": {},
   "outputs": [],
   "source": [
    "y_pred = ensemble_chain_predict(xgb_models, features)"
   ]
  }
 ],
 "metadata": {
  "kernelspec": {
   "display_name": "Python 3 (ipykernel)",
   "language": "python",
   "name": "python3"
  },
  "language_info": {
   "codemirror_mode": {
    "name": "ipython",
    "version": 3
   },
   "file_extension": ".py",
   "mimetype": "text/x-python",
   "name": "python",
   "nbconvert_exporter": "python",
   "pygments_lexer": "ipython3",
   "version": "3.8.18"
  }
 },
 "nbformat": 4,
 "nbformat_minor": 5
}
